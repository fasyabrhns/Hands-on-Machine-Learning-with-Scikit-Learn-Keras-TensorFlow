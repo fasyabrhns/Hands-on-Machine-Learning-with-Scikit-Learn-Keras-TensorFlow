{
 "cells": [
  {
   "cell_type": "markdown",
   "id": "8c0a6217",
   "metadata": {},
   "source": [
    "# The Fundamentals of Machine Learning\n",
    "## Chapter 1 - The Machine Learning Landscape"
   ]
  },
  {
   "cell_type": "markdown",
   "id": "8d6b4b0a",
   "metadata": {},
   "source": [
    "### What Is Machine Learning?\n",
    "Machine Learning is the science (and art) of programming computers so they can learn from data.\n",
    "\n",
    "**Definitions:**\n",
    "\n",
    "- *[Machine Learning is the] field of study that gives computers the ability to learn without being explicitly programmed.* —Arthur Samuel, 1959\n",
    "- *A computer program is said to learn from experience E with respect to some task T and some performance measure P, if its performance on T, as measured by P, improves with experience E.* —Tom Mitchell, 1997\n",
    "\n",
    "**Example:** A spam filter is a Machine Learning program that learns from examples of spam and ham emails.\n",
    "\n",
    "- Task (T): flag spam for new emails\n",
    "- Experience (E): the training data\n",
    "- Performance (P): ratio of correctly classified emails (accuracy)\n"
   ]
  },
  {
   "cell_type": "markdown",
   "id": "899527e1",
   "metadata": {},
   "source": [
    "### Why Use Machine Learning?\n",
    "- Rule-based systems (manual patterns) are complex and hard to maintain\n",
    "- ML-based systems automatically learn and adapt to new data\n",
    "- Useful for complex problems like speech recognition, computer vision, etc.\n",
    "\n",
    "**Key advantages:**\n",
    "- Handles complex problems with no clear algorithms\n",
    "- Adapts to dynamic environments\n",
    "- Finds hidden patterns (data mining)\n"
   ]
  },
  {
   "cell_type": "markdown",
   "id": "b85ff9f3",
   "metadata": {},
   "source": [
    "### Example Applications\n",
    "- Image classification (CNNs)\n",
    "- Tumor detection (semantic segmentation)\n",
    "- Text classification (NLP)\n",
    "- Offensive comment filtering\n",
    "- Text summarization\n",
    "- Chatbots & personal assistants\n",
    "- Game AI (Reinforcement Learning, e.g., AlphaGo)\n"
   ]
  },
  {
   "cell_type": "markdown",
   "id": "816066f7",
   "metadata": {},
   "source": [
    "### Supervised vs Unsupervised Learning\n",
    "**Supervised Learning:**\n",
    "- Training set has labels\n",
    "- Tasks: classification, regression\n",
    "- Algorithms: k-NN, Linear/Logistic Regression, SVMs, Decision Trees, Random Forests, Neural Networks\n",
    "\n",
    "**Unsupervised Learning:**\n",
    "- Training set has no labels\n",
    "- Tasks: clustering, anomaly detection, dimensionality reduction, association rule learning\n",
    "- Algorithms: K-Means, DBSCAN, PCA, t-SNE\n"
   ]
  },
  {
   "cell_type": "markdown",
   "id": "771c0eb0",
   "metadata": {},
   "source": [
    "### Semisupervised & Reinforcement Learning\n",
    "**Semisupervised:**\n",
    "- Few labeled + many unlabeled data\n",
    "- Example: Google Photos face clustering\n",
    "\n",
    "**Reinforcement Learning:**\n",
    "- Agent learns by interacting with environment\n",
    "- Gets rewards/penalties\n",
    "- Example: AlphaGo, robotics\n"
   ]
  },
  {
   "cell_type": "markdown",
   "id": "0f149d14",
   "metadata": {},
   "source": [
    "### Batch vs Online Learning\n",
    "**Batch Learning:**\n",
    "- Trained once, deployed\n",
    "- Needs retraining for new data\n",
    "- Costly for large datasets\n",
    "\n",
    "**Online Learning:**\n",
    "- Learns incrementally (mini-batches or one instance at a time)\n",
    "- Adapts continuously\n",
    "- Supports out-of-core learning for huge datasets\n"
   ]
  },
  {
   "cell_type": "markdown",
   "id": "6d0b4261",
   "metadata": {},
   "source": [
    "### Instance-Based vs Model-Based Learning\n",
    "**Instance-Based:**\n",
    "- Memorizes training data\n",
    "- Classifies new data based on similarity\n",
    "\n",
    "**Model-Based:**\n",
    "- Builds a model from training data\n",
    "- Uses it to make predictions\n",
    "- Example: Linear Regression for GDP vs Life Satisfaction\n"
   ]
  },
  {
   "cell_type": "code",
   "execution_count": null,
   "id": "c6484b86",
   "metadata": {},
   "outputs": [],
   "source": [
    "\n",
    "import matplotlib.pyplot as plt\n",
    "import numpy as np\n",
    "import pandas as pd\n",
    "import sklearn.linear_model\n",
    "\n",
    "# Load the data\n",
    "oecd_bli = pd.read_csv(\"oecd_bli_2015.csv\", thousands=',')\n",
    "gdp_per_capita = pd.read_csv(\"gdp_per_capita.csv\", thousands=',', delimiter='\\t',\n",
    "                             encoding='latin1', na_values=\"n/a\")\n",
    "\n",
    "# Prepare the data (assuming prepare_country_stats is defined elsewhere)\n",
    "country_stats = prepare_country_stats(oecd_bli, gdp_per_capita)\n",
    "X = np.c_[country_stats[\"GDP per capita\"]]\n",
    "y = np.c_[country_stats[\"Life satisfaction\"]]\n",
    "\n",
    "# Visualize the data\n",
    "country_stats.plot(kind='scatter', x=\"GDP per capita\", y='Life satisfaction')\n",
    "plt.show()\n",
    "\n",
    "# Select a linear model\n",
    "model = sklearn.linear_model.LinearRegression()\n",
    "\n",
    "# Train the model\n",
    "model.fit(X, y)\n",
    "\n",
    "# Make a prediction for Cyprus\n",
    "X_new = [[22587]]  # Cyprus's GDP per capita\n",
    "print(model.predict(X_new))  # Expected output ~5.96\n"
   ]
  },
  {
   "cell_type": "markdown",
   "id": "7f4aa501",
   "metadata": {},
   "source": [
    "### Challenges in Machine Learning\n",
    "- Insufficient data\n",
    "- Nonrepresentative data\n",
    "- Poor-quality data\n",
    "- Irrelevant features\n",
    "- Overfitting & Underfitting\n",
    "- Data mismatch between training & production\n",
    "- No Free Lunch Theorem\n"
   ]
  }
 ],
 "metadata": {},
 "nbformat": 4,
 "nbformat_minor": 5
}